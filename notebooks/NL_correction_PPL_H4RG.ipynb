{
 "cells": [
  {
   "cell_type": "code",
   "execution_count": 2,
   "metadata": {},
   "outputs": [],
   "source": [
    "import pdb\n",
    "import configparser\n",
    "import gc\n",
    "import glob\n",
    "import matplotlib.cm as cm\n",
    "import matplotlib.patches as patches\n",
    "import matplotlib.font_manager as fm\n",
    "import collections\n",
    "import astropy.io.fits as pf\n",
    "import os\n",
    "import sys\n",
    "import subprocess as S\n",
    "import numpy as np\n",
    "#matplotlib.use('Pdf')\n",
    "\n",
    "import lsst.daf.butler as dB\n",
    "import lsst.afw.display as afwDisplay\n",
    "import numpy as np\n",
    "import pylab as plt\n",
    "import astropy.io.fits as pf\n",
    "import lsst.afw.image as afwImage\n",
    "from matplotlib.backends.backend_pdf import PdfPages\n",
    "\n"
   ]
  },
  {
   "cell_type": "code",
   "execution_count": 3,
   "metadata": {},
   "outputs": [],
   "source": [
    "from lsst.cp.pipe.utils import (funcPolynomial, irlsFit)"
   ]
  },
  {
   "cell_type": "code",
   "execution_count": 4,
   "metadata": {},
   "outputs": [],
   "source": [
    "# Read in median (of 48 exposures) flat and dark\n",
    "hdulist = pf.open(\"/project/plazas/PPL/H4RG/output/2021MAR26/PPL-data-2021-02-18/stacked/flats_median_stacked.fits\")\n",
    "medianFlatsCube = 2**16 - 1 - hdulist[0].data\n",
    "headerFlatsCube = hdulist[0].header\n",
    "\n",
    "hdulist = pf.open(\"/project/plazas/PPL/H4RG/output/2021MAR26/PPL-data-2021-02-18/stacked/darks_median_stacked.fits\")\n",
    "medianDarksCube = 2**16 - 1 - hdulist[0].data\n",
    "headerDarksCube = hdulist[0].header"
   ]
  },
  {
   "cell_type": "code",
   "execution_count": 5,
   "metadata": {},
   "outputs": [],
   "source": [
    "#medianFlatsCube=-medianDarksCube"
   ]
  },
  {
   "cell_type": "code",
   "execution_count": 6,
   "metadata": {},
   "outputs": [
    {
     "name": "stdout",
     "output_type": "stream",
     "text": [
      "[9715.943010240793, 11426.017488092184, 13102.266193062067, 14772.532860279083, 16436.42029634118, 18094.360560655594, 19744.81346285343, 21387.526940107346, 23021.748909801245, 24647.882715135813]\n",
      "[9619.048173367977, 9669.759227961302, 9720.090130090714, 9770.667324662209, 9821.104289650917, 9871.706164628267, 9922.218574136496, 9972.941509872675, 10023.564531773329, 10074.093306928873]\n"
     ]
    }
   ],
   "source": [
    "meanFlats = [np.mean(x) for x in medianFlatsCube]\n",
    "meanDarks = [np.mean(x) for x in medianDarksCube]\n",
    "\n",
    "print (meanFlats)\n",
    "print (meanDarks)\n"
   ]
  },
  {
   "cell_type": "code",
   "execution_count": 7,
   "metadata": {},
   "outputs": [
    {
     "name": "stdout",
     "output_type": "stream",
     "text": [
      "[ 0.          2.72990632  5.45981264  8.18971896 10.91962528 13.6495316\n",
      " 16.37943792 19.10934424 21.83925056 24.56915688]\n",
      "4096 4096\n"
     ]
    }
   ],
   "source": [
    "framtime = headerFlatsCube['FRAMTIME']\n",
    "nframes = headerFlatsCube['NFRAMES']\n",
    "expTimes = np.array([i*framtime for i in range(nframes)])/1000.\n",
    "detSizeX, detSizeY = headerFlatsCube['DETSIZEX'], headerFlatsCube['DETSIZEY']\n",
    "print (expTimes)\n",
    "print (detSizeX, detSizeY)"
   ]
  },
  {
   "cell_type": "code",
   "execution_count": 8,
   "metadata": {},
   "outputs": [],
   "source": [
    "polyFit, polyFitErr, chiSq, weights = irlsFit([0.0, 100.0, -1e-6, 1e-10], expTimes,\n",
    "                                               meanFlats, funcPolynomial)"
   ]
  },
  {
   "cell_type": "code",
   "execution_count": 9,
   "metadata": {},
   "outputs": [
    {
     "data": {
      "text/plain": [
       "array([ 9.72097928e+03,  6.23335680e+02, -8.12478211e-01,  7.04923733e-03])"
      ]
     },
     "execution_count": 9,
     "metadata": {},
     "output_type": "execute_result"
    }
   ],
   "source": [
    "polyFit"
   ]
  },
  {
   "cell_type": "code",
   "execution_count": 10,
   "metadata": {},
   "outputs": [
    {
     "data": {
      "text/plain": [
       "array([4.48897573e+00, 1.62176840e+00, 1.56641405e-01, 4.15713052e-03])"
      ]
     },
     "execution_count": 10,
     "metadata": {},
     "output_type": "execute_result"
    }
   ],
   "source": [
    "polyFitErr"
   ]
  },
  {
   "cell_type": "code",
   "execution_count": 11,
   "metadata": {},
   "outputs": [
    {
     "name": "stdout",
     "output_type": "stream",
     "text": [
      "[ 0.05180822 -0.02967967  0.16769772  0.36011555  0.55150894  0.73979461\n",
      "  0.93349622  1.13250089  1.33887154  1.54949514]\n"
     ]
    }
   ],
   "source": [
    "# Fractional residuals\n",
    "# 100 * (k0 + k1*Time - meanSignal) / (k0 + k1*Time)\n",
    "linearPart = polyFit[0] +expTimes*polyFit[1]\n",
    "res = 100 * ((linearPart - meanFlats)/linearPart)\n",
    "print (res)"
   ]
  },
  {
   "cell_type": "code",
   "execution_count": 12,
   "metadata": {},
   "outputs": [
    {
     "name": "stdout",
     "output_type": "stream",
     "text": [
      "[-9720.979276476573, -1.0, 2.0910660390389787e-06, -2.910557419385757e-11]\n"
     ]
    }
   ],
   "source": [
    "# Correction coefficients (Eq. 37 of Jenna's paper, 3rd BFE paper from OSU group)\n",
    "k1 = polyFit[1]\n",
    "correctionCoeffs = [-coeff/(k1**order) for order, coeff in enumerate(polyFit)]\n",
    "print (correctionCoeffs)"
   ]
  },
  {
   "cell_type": "code",
   "execution_count": 19,
   "metadata": {},
   "outputs": [
    {
     "name": "stdout",
     "output_type": "stream",
     "text": [
      "2.0910660390389787e-06 2\n",
      "-2.910557419385757e-11 3\n",
      "[9715.943010240793, 11426.017488092184, 13102.266193062067, 14772.532860279083, 16436.42029634118, 18094.360560655594, 19744.81346285343, 21387.526940107346, 23021.748909801245, 24647.882715135813]\n",
      "[ 9886.64363138 11655.59716241 13395.77225939 15135.03158981\n",
      " 16872.09387084 18606.56063984 20335.98656234 22059.28939665\n",
      " 23774.88277478 25482.41532977]\n"
     ]
    }
   ],
   "source": [
    "# Correct the mean signal\n",
    "correction = np.zeros_like(meanFlats)\n",
    "for order, coeff in enumerate(correctionCoeffs[2:]):\n",
    "    print (coeff, order+2)\n",
    "    correction += coeff * np.power(meanFlats, order+2)\n",
    "correctedMeanFlats = meanFlats + correction\n",
    "print (meanFlats)\n",
    "print (correctedMeanFlats)"
   ]
  },
  {
   "cell_type": "code",
   "execution_count": 14,
   "metadata": {},
   "outputs": [],
   "source": [
    "### Check the fractional NLL residuals"
   ]
  },
  {
   "cell_type": "code",
   "execution_count": 15,
   "metadata": {},
   "outputs": [
    {
     "name": "stdout",
     "output_type": "stream",
     "text": [
      "[ 9.89181483e+03  6.43609498e+02 -3.74660797e-01  3.96526502e-04]\n",
      " \n",
      "Fractional NL after correction:  [ 0.05227757 -0.05827802  0.07481718  0.18310705  0.28189181  0.37598749\n",
      "  0.47857076  0.59250255  0.72190931  0.86498469]\n"
     ]
    }
   ],
   "source": [
    "polyFit, polyFitErr, chiSq, weights = irlsFit([0.0, 100.0, -1e-6, 1e-10], expTimes,\n",
    "                                               correctedMeanFlats, funcPolynomial)\n",
    "print (polyFit)\n",
    "linearPart = polyFit[0] +expTimes*polyFit[1]\n",
    "resAfter = 100 * ((linearPart - correctedMeanFlats)/linearPart)\n",
    "print (\" \")\n",
    "print (\"Fractional NL after correction: \", resAfter)"
   ]
  },
  {
   "cell_type": "code",
   "execution_count": 18,
   "metadata": {},
   "outputs": [
    {
     "data": {
      "image/png": "[encoded data removed]",
      "text/plain": [
       "<Figure size 720x720 with 1 Axes>"
      ]
     },
     "metadata": {
      "needs_background": "light"
     },
     "output_type": "display_data"
    }
   ],
   "source": [
    "fig = plt.figure(figsize=(10,10))\n",
    "plt.plot(expTimes, res, label=\"Before correction\")\n",
    "plt.plot(expTimes, resAfter, label=\"After correction\")\n",
    "plt.legend()\n",
    "plt.suptitle(\"Mean non-linearity correction (median-stacked flat field) \\n Polynomial (order=3)\")\n",
    "plt.xlabel(\"ExpTime (second)\")\n",
    "plt.ylabel(\"Fractional NL residual (%)\")\n",
    "plt.show()"
   ]
  },
  {
   "cell_type": "code",
   "execution_count": 16,
   "metadata": {},
   "outputs": [
    {
     "data": {
      "text/plain": [
       "array([ 9773.5, 10659. , 11514.5, 12376. , 13224.5, 14089.5, 14929.5,\n",
       "       15787. , 16621.5, 17481.5])"
      ]
     },
     "execution_count": 16,
     "metadata": {},
     "output_type": "execute_result"
    }
   ],
   "source": [
    "medianFlatsCube[:, 50, 50]"
   ]
  },
  {
   "cell_type": "code",
   "execution_count": 17,
   "metadata": {},
   "outputs": [],
   "source": [
    "## now, let's try to get correction coefficients for each individual pixel of the master flat (i.e, approx 16e6 fits!)\n",
    "from multiprocessing import Pool\n",
    "from multiprocessing import cpu_count\n",
    "\n",
    "def fit_pixel_ramp(medianFlatsCube, expTimes, counter=0, detSize=(4096, 4096)):\n",
    "    index_x, index_y = np.unravel_index(counter, detSize)\n",
    "    polyFit, polyFitErr, chiSq, weights = irlsFit([0.0, 100.0, -1e-6, 1e-10], expTimes,\n",
    "                                                  medianFlatsCube[:, index_x, index_y],\n",
    "                                                  funcPolynomial)\n",
    "    # Correction coefficients (Eq. 37 of Jenna's paper, 3rd BFE paper from OSU group)\n",
    "    k1 = polyFit[1]\n",
    "    correctionCoeffs = [-coeff/(k1**order) for order, coeff in enumerate(polyFit)]\n",
    "    return correctionCoeffs[2:] #(polyFit, polyFitErr, chiSq, weights)\n",
    "\n",
    "def nl_function (index):\n",
    "    \"\"\"Function to be passed to nultiprocess.\n",
    "    Must have singel index as input.\n",
    "    \"\"\"\n",
    "    index_x, index_y = np.unravel_index(index, (detSizeX, detSizeY))\n",
    "    corrCoeffs = fit_pixel_ramp (medianFlatsCube, expTimes, counter=index, detSize=(detSizeX, detSizeY))\n",
    "    return index_x, index_y, corrCoeffs[0], corrCoeffs[1] #polyFit, polyFitErr, chiSq, weights)"
   ]
  },
  {
   "cell_type": "code",
   "execution_count": 24,
   "metadata": {},
   "outputs": [
    {
     "name": "stdout",
     "output_type": "stream",
     "text": [
      "I have  32 cores here. Using: 25\n"
     ]
    }
   ],
   "source": [
    "processes = cpu_count()\n",
    "use = 25\n",
    "print(\"I have \", processes, \"cores here. Using: %g\" % use)\n",
    "pool = Pool(processes=use)\n",
    "npix_total = 20*10 #detSizeX*detSizeY\n",
    "results = pool.map(nl_function, list(range(npix_total)))\n",
    "pool.close()\n",
    "pool.join()"
   ]
  },
  {
   "cell_type": "code",
   "execution_count": 25,
   "metadata": {},
   "outputs": [],
   "source": [
    "results = np.array(results)"
   ]
  },
  {
   "cell_type": "code",
   "execution_count": 26,
   "metadata": {},
   "outputs": [
    {
     "data": {
      "text/plain": [
       "(200, 4)"
      ]
     },
     "execution_count": 26,
     "metadata": {},
     "output_type": "execute_result"
    }
   ],
   "source": [
    "type(results)\n",
    "results.shape"
   ]
  },
  {
   "cell_type": "code",
   "execution_count": 34,
   "metadata": {},
   "outputs": [
    {
     "data": {
      "text/plain": [
       "-0.000253243828969985"
      ]
     },
     "execution_count": 34,
     "metadata": {},
     "output_type": "execute_result"
    }
   ],
   "source": [
    "a = np.zeros((20,10))\n",
    "b = results[:,2].reshape((20,10))\n",
    "b[0,4]"
   ]
  },
  {
   "cell_type": "code",
   "execution_count": 22,
   "metadata": {},
   "outputs": [
    {
     "name": "stdout",
     "output_type": "stream",
     "text": [
      "[ 0.0000000e+00  0.0000000e+00 -2.4335814e-04 -1.7688860e-08]\n",
      "[ 0.00000000e+00  1.00000000e+00 -2.49866385e-04 -1.86412206e-08]\n",
      "[ 0.00000000e+00  2.00000000e+00 -2.45738282e-04 -1.80520067e-08]\n",
      "[ 0.00000000e+00  3.00000000e+00 -2.47013923e-04 -1.82208482e-08]\n",
      "[ 0.00000000e+00  4.00000000e+00 -2.53243829e-04 -1.91539424e-08]\n",
      "[ 0.00000000e+00  5.00000000e+00 -2.53757527e-04 -1.92389799e-08]\n",
      "[ 0.00000000e+00  6.00000000e+00 -2.55664590e-04 -1.95296225e-08]\n",
      "[ 0.00000000e+00  7.00000000e+00 -2.58529559e-04 -1.99727267e-08]\n",
      "[ 0.00000000e+00  8.00000000e+00 -2.56808576e-04 -1.96902145e-08]\n",
      "[ 0.00000000e+00  9.00000000e+00 -2.57518800e-04 -1.97980675e-08]\n",
      "[ 0.00000000e+00  1.00000000e+01 -2.62766077e-04 -2.06190798e-08]\n",
      "[ 0.00000000e+00  1.10000000e+01 -2.61298781e-04 -2.03843405e-08]\n",
      "[ 0.00000000e+00  1.20000000e+01 -2.62768681e-04 -2.06186536e-08]\n",
      "[ 0.00000000e+00  1.30000000e+01 -2.66112948e-04 -2.11589667e-08]\n",
      "[ 0.00000000e+00  1.40000000e+01 -2.60111282e-04 -2.02108724e-08]\n",
      "[ 0.00000000e+00  1.50000000e+01 -2.63703062e-04 -2.07734488e-08]\n",
      "[ 0.00000000e+00  1.60000000e+01 -2.66763469e-04 -2.12508269e-08]\n",
      "[ 0.00000000e+00  1.70000000e+01 -2.63796001e-04 -2.07940857e-08]\n",
      "[ 0.00000000e+00  1.80000000e+01 -2.63835914e-04 -2.07845529e-08]\n",
      "[ 0.00000000e+00  1.90000000e+01 -2.67956822e-04 -2.14414700e-08]\n",
      "[ 0.00000000e+00  2.00000000e+01 -2.68373062e-04 -2.15080820e-08]\n",
      "[ 0.00000000e+00  2.10000000e+01 -2.65136331e-04 -2.09933803e-08]\n",
      "[ 0.00000000e+00  2.20000000e+01 -2.68664306e-04 -2.15550177e-08]\n",
      "[ 0.00000000e+00  2.30000000e+01 -2.70368137e-04 -2.18305643e-08]\n",
      "[ 0.00000000e+00  2.40000000e+01 -2.70298283e-04 -2.18177102e-08]\n",
      "[ 0.00000000e+00  2.50000000e+01 -2.71911208e-04 -2.20888710e-08]\n",
      "[ 0.00000000e+00  2.60000000e+01 -2.68903925e-04 -2.15823032e-08]\n",
      "[ 0.00000000e+00  2.70000000e+01 -2.71926628e-04 -2.20868004e-08]\n",
      "[ 0.00000000e+00  2.80000000e+01 -2.76129147e-04 -2.27763807e-08]\n",
      "[ 0.00000000e+00  2.90000000e+01 -2.72869999e-04 -2.22262828e-08]\n",
      "[ 0.00000000e+00  3.00000000e+01 -2.70504819e-04 -2.18512554e-08]\n",
      "[ 0.00000000e+00  3.10000000e+01 -2.74336089e-04 -2.24844370e-08]\n",
      "[ 0.00000000e+00  3.20000000e+01 -2.75683355e-04 -2.26994981e-08]\n",
      "[ 0.00000000e+00  3.30000000e+01 -2.79484246e-04 -2.33335977e-08]\n",
      "[ 0.00000000e+00  3.40000000e+01 -2.76753290e-04 -2.28773725e-08]\n",
      "[ 0.00000000e+00  3.50000000e+01 -2.79719526e-04 -2.33803816e-08]\n",
      "[ 0.00000000e+00  3.60000000e+01 -2.78463650e-04 -2.31587132e-08]\n",
      "[ 0.00000000e+00  3.70000000e+01 -2.80586210e-04 -2.35146281e-08]\n",
      "[ 0.00000000e+00  3.80000000e+01 -2.79827959e-04 -2.33796335e-08]\n",
      "[ 0.00000000e+00  3.90000000e+01 -2.79627114e-04 -2.33469243e-08]\n",
      "[ 0.00000000e+00  4.00000000e+01 -2.78876776e-04 -2.32132599e-08]\n",
      "[ 0.00000000e+00  4.10000000e+01 -2.85107535e-04 -2.42710768e-08]\n",
      "[ 0.00000000e+00  4.20000000e+01 -2.79281425e-04 -2.32930938e-08]\n",
      "[ 0.00000000e+00  4.30000000e+01 -2.82618868e-04 -2.38497647e-08]\n",
      "[ 0.00000000e+00  4.40000000e+01 -2.85821283e-04 -2.44024931e-08]\n",
      "[ 0.00000000e+00  4.50000000e+01 -2.83656685e-04 -2.40210987e-08]\n",
      "[ 0.00000000e+00  4.60000000e+01 -2.82063588e-04 -2.37714955e-08]\n",
      "[ 0.00000000e+00  4.70000000e+01 -2.84486558e-04 -2.41585377e-08]\n",
      "[ 0.00000000e+00  4.80000000e+01 -2.83991844e-04 -2.40816886e-08]\n",
      "[ 0.00000000e+00  4.90000000e+01 -2.86768327e-04 -2.45582383e-08]\n",
      "[ 0.00000000e+00  5.00000000e+01 -2.83927814e-04 -2.40651942e-08]\n",
      "[ 0.00000000e+00  5.10000000e+01 -2.90071481e-04 -2.51317747e-08]\n",
      "[ 0.00000000e+00  5.20000000e+01 -2.86338937e-04 -2.44814751e-08]\n",
      "[ 0.00000000e+00  5.30000000e+01 -2.90234222e-04 -2.51584957e-08]\n",
      "[ 0.00000000e+00  5.40000000e+01 -2.87561705e-04 -2.46822329e-08]\n",
      "[ 0.00000000e+00  5.50000000e+01 -2.90869451e-04 -2.52743122e-08]\n",
      "[ 0.00000000e+00  5.60000000e+01 -2.89223136e-04 -2.49733547e-08]\n",
      "[ 0.00000000e+00  5.70000000e+01 -2.91355054e-04 -2.53481399e-08]\n",
      "[ 0.00000000e+00  5.80000000e+01 -2.90115464e-04 -2.51224551e-08]\n",
      "[ 0.00000000e+00  5.90000000e+01 -2.92408613e-04 -2.55138337e-08]\n",
      "[ 0.00000000e+00  6.00000000e+01 -2.87334491e-04 -2.46366734e-08]\n",
      "[ 0.00000000e+00  6.10000000e+01 -2.89949388e-04 -2.51150171e-08]\n",
      "[ 0.00000000e+00  6.20000000e+01 -2.91993780e-04 -2.54445068e-08]\n",
      "[ 0.00000000e+00  6.30000000e+01 -2.97391459e-04 -2.63966336e-08]\n",
      "[ 0.00000000e+00  6.40000000e+01 -2.92508768e-04 -2.55395371e-08]\n",
      "[ 0.00000000e+00  6.50000000e+01 -2.98582489e-04 -2.66154707e-08]\n",
      "[ 0.00000000e+00  6.60000000e+01 -2.90700127e-04 -2.52352186e-08]\n",
      "[ 0.00000000e+00  6.70000000e+01 -2.96007788e-04 -2.61554741e-08]\n",
      "[ 0.00000000e+00  6.80000000e+01 -2.95387260e-04 -2.60584329e-08]\n",
      "[ 0.00000000e+00  6.90000000e+01 -2.97894009e-04 -2.64948583e-08]\n",
      "[ 0.00000000e+00  7.00000000e+01 -2.97000534e-04 -2.63273137e-08]\n",
      "[ 0.00000000e+00  7.10000000e+01 -2.97480444e-04 -2.64177218e-08]\n",
      "[ 0.00000000e+00  7.20000000e+01 -2.93309415e-04 -2.56804787e-08]\n",
      "[ 0.00000000e+00  7.30000000e+01 -2.96455816e-04 -2.62408735e-08]\n",
      "[ 0.00000000e+00  7.40000000e+01 -2.98393857e-04 -2.65643352e-08]\n",
      "[ 0.00000000e+00  7.50000000e+01 -3.03966779e-04 -2.75811731e-08]\n",
      "[ 0.00000000e+00  7.60000000e+01 -3.02054777e-04 -2.72535175e-08]\n",
      "[ 0.00000000e+00  7.70000000e+01 -2.98174552e-04 -2.65309906e-08]\n",
      "[ 0.00000000e+00  7.80000000e+01 -3.01891699e-04 -2.71959862e-08]\n",
      "[ 0.00000000e+00  7.90000000e+01 -3.04152833e-04 -2.76330305e-08]\n",
      "[ 0.00000000e+00  8.00000000e+01 -3.02484824e-04 -2.73102839e-08]\n",
      "[ 0.00000000e+00  8.10000000e+01 -3.04184645e-04 -2.76135558e-08]\n",
      "[ 0.00000000e+00  8.20000000e+01 -2.98899353e-04 -2.66733667e-08]\n",
      "[ 0.00000000e+00  8.30000000e+01 -3.03565041e-04 -2.74955635e-08]\n",
      "[ 0.00000000e+00  8.40000000e+01 -3.00880628e-04 -2.70175405e-08]\n",
      "[ 0.00000000e+00  8.50000000e+01 -3.06895306e-04 -2.81090684e-08]\n",
      "[ 0.00000000e+00  8.60000000e+01 -3.02165461e-04 -2.72477382e-08]\n",
      "[ 0.00000000e+00  8.70000000e+01 -3.06344390e-04 -2.80379758e-08]\n",
      "[ 0.00000000e+00  8.80000000e+01 -3.08600661e-04 -2.84268825e-08]\n",
      "[ 0.00000000e+00  8.90000000e+01 -3.04539245e-04 -2.76726263e-08]\n",
      "[ 0.00000000e+00  9.00000000e+01 -3.10460971e-04 -2.87549330e-08]\n",
      "[ 0.00000000e+00  9.10000000e+01 -3.11966850e-04 -2.90494487e-08]\n",
      "[ 0.00000000e+00  9.20000000e+01 -3.06279696e-04 -2.80109143e-08]\n",
      "[ 0.00000000e+00  9.30000000e+01 -3.11358177e-04 -2.89384788e-08]\n",
      "[ 0.00000000e+00  9.40000000e+01 -3.09853262e-04 -2.86569710e-08]\n",
      "[ 0.00000000e+00  9.50000000e+01 -3.13959405e-04 -2.94169695e-08]\n",
      "[ 0.00000000e+00  9.60000000e+01 -3.06248178e-04 -2.79943393e-08]\n",
      "[ 0.00000000e+00  9.70000000e+01 -3.12804082e-04 -2.92077539e-08]\n",
      "[ 0.00000000e+00  9.80000000e+01 -3.09779953e-04 -2.86416115e-08]\n",
      "[ 0.00000000e+00  9.90000000e+01 -3.15797799e-04 -2.97741077e-08]\n",
      "[ 0.00000000e+00  1.00000000e+02 -3.08903132e-04 -2.84635462e-08]\n",
      "[ 0.00000000e+00  1.01000000e+02 -3.13374891e-04 -2.93173574e-08]\n",
      "[ 0.00000000e+00  1.02000000e+02 -3.15096095e-04 -2.96390540e-08]\n",
      "[ 0.00000000e+00  1.03000000e+02 -3.16057443e-04 -2.98317229e-08]\n",
      "[ 0.00000000e+00  1.04000000e+02 -3.08718154e-04 -2.84363135e-08]\n",
      "[ 0.00000000e+00  1.05000000e+02 -3.12714846e-04 -2.91773851e-08]\n",
      "[ 0.00000000e+00  1.06000000e+02 -3.13903299e-04 -2.94067279e-08]\n",
      "[ 0.00000000e+00  1.07000000e+02 -3.17180041e-04 -3.00194751e-08]\n",
      "[ 0.00000000e+00  1.08000000e+02 -3.12790748e-04 -2.92121314e-08]\n",
      "[ 0.00000000e+00  1.09000000e+02 -3.18426850e-04 -3.02819543e-08]\n",
      "[ 0.00000000e+00  1.10000000e+02 -3.15738271e-04 -2.97724055e-08]\n",
      "[ 0.00000000e+00  1.11000000e+02 -3.21601864e-04 -3.08821588e-08]\n",
      "[ 0.00000000e+00  1.12000000e+02 -3.18865286e-04 -3.03491632e-08]\n",
      "[ 0.00000000e+00  1.13000000e+02 -3.17801951e-04 -3.01280702e-08]\n",
      "[ 0.00000000e+00  1.14000000e+02 -3.19167614e-04 -3.04086198e-08]\n",
      "[ 0.00000000e+00  1.15000000e+02 -3.17017021e-04 -2.99968272e-08]\n",
      "[ 0.00000000e+00  1.16000000e+02 -3.20365049e-04 -3.06123765e-08]\n",
      "[ 0.00000000e+00  1.17000000e+02 -3.25630462e-04 -3.16317569e-08]\n",
      "[ 0.00000000e+00  1.18000000e+02 -3.21820973e-04 -3.09131911e-08]\n",
      "[ 0.00000000e+00  1.19000000e+02 -3.25942976e-04 -3.17176151e-08]\n",
      "[ 0.00000000e+00  1.20000000e+02 -3.20059683e-04 -3.05570316e-08]\n",
      "[ 0.00000000e+00  1.21000000e+02 -3.25173409e-04 -3.15575238e-08]\n",
      "[ 0.00000000e+00  1.22000000e+02 -3.20445819e-04 -3.06395557e-08]\n",
      "[ 0.00000000e+00  1.23000000e+02 -3.25410412e-04 -3.15880419e-08]\n",
      "[ 0.00000000e+00  1.24000000e+02 -3.18187490e-04 -3.01980187e-08]\n",
      "[ 0.00000000e+00  1.25000000e+02 -3.27567573e-04 -3.20167059e-08]\n",
      "[ 0.00000000e+00  1.26000000e+02 -3.22482075e-04 -3.10540632e-08]\n",
      "[ 0.00000000e+00  1.27000000e+02 -3.22947568e-04 -3.11176932e-08]\n",
      "[ 0.00000000e+00  1.28000000e+02 -3.22325273e-04 -3.10285862e-08]\n",
      "[ 0.00000000e+00  1.29000000e+02 -3.23889677e-04 -3.13163423e-08]\n",
      "[ 0.00000000e+00  1.30000000e+02 -3.26652320e-04 -3.18588521e-08]\n",
      "[ 0.00000000e+00  1.31000000e+02 -3.24451470e-04 -3.14528838e-08]\n",
      "[ 0.00000000e+00  1.32000000e+02 -3.19806686e-04 -3.05404021e-08]\n",
      "[ 0.00000000e+00  1.33000000e+02 -3.23130649e-04 -3.11704223e-08]\n",
      "[ 0.00000000e+00  1.34000000e+02 -3.22667116e-04 -3.10830556e-08]\n",
      "[ 0.00000000e+00  1.35000000e+02 -3.24578115e-04 -3.14599730e-08]\n",
      "[ 0.00000000e+00  1.36000000e+02 -3.21287579e-04 -3.08427404e-08]\n",
      "[ 0.00000000e+00  1.37000000e+02 -3.20416423e-04 -3.06468959e-08]\n",
      "[ 0.00000000e+00  1.38000000e+02 -3.19197232e-04 -3.04292992e-08]\n",
      "[ 0.00000000e+00  1.39000000e+02 -3.21801328e-04 -3.09131278e-08]\n",
      "[ 0.00000000e+00  1.40000000e+02 -3.24312490e-04 -3.14029394e-08]\n",
      "[ 0.00000000e+00  1.41000000e+02 -3.18286794e-04 -3.02518814e-08]\n",
      "[ 0.00000000e+00  1.42000000e+02 -3.15965987e-04 -2.98037538e-08]\n",
      "[ 0.00000000e+00  1.43000000e+02 -3.16053606e-04 -2.98130397e-08]\n",
      "[ 0.00000000e+00  1.44000000e+02 -3.19875465e-04 -3.05510150e-08]\n",
      "[ 0.00000000e+00  1.45000000e+02 -3.22233372e-04 -3.10011063e-08]\n",
      "[ 0.00000000e+00  1.46000000e+02 -3.16524130e-04 -2.99168118e-08]\n",
      "[ 0.00000000e+00  1.47000000e+02 -3.16542012e-04 -2.99021520e-08]\n",
      "[ 0.00000000e+00  1.48000000e+02 -3.20096740e-04 -3.05977827e-08]\n",
      "[ 0.00000000e+00  1.49000000e+02 -3.19461274e-04 -3.04747892e-08]\n",
      "[ 0.00000000e+00  1.50000000e+02 -3.15040198e-04 -2.96370911e-08]\n",
      "[ 0.00000000e+00  1.51000000e+02 -3.20516141e-04 -3.06910902e-08]\n",
      "[ 0.00000000e+00  1.52000000e+02 -3.11467282e-04 -2.89699793e-08]\n",
      "[ 0.00000000e+00  1.53000000e+02 -3.15784635e-04 -2.97954974e-08]\n",
      "[ 0.00000000e+00  1.54000000e+02 -3.09823230e-04 -2.86539202e-08]\n",
      "[ 0.00000000e+00  1.55000000e+02 -3.15225416e-04 -2.96550001e-08]\n",
      "[ 0.00000000e+00  1.56000000e+02 -3.13536024e-04 -2.93445550e-08]\n",
      "[ 0.00000000e+00  1.57000000e+02 -3.11766400e-04 -2.90188875e-08]\n",
      "[ 0.00000000e+00  1.58000000e+02 -3.11287647e-04 -2.89553592e-08]\n",
      "[ 0.00000000e+00  1.59000000e+02 -3.13110721e-04 -2.92640540e-08]\n",
      "[ 0.00000000e+00  1.60000000e+02 -3.07257672e-04 -2.81900081e-08]\n",
      "[ 0.00000000e+00  1.61000000e+02 -3.09644045e-04 -2.86263419e-08]\n",
      "[ 0.00000000e+00  1.62000000e+02 -3.11215932e-04 -2.89170385e-08]\n",
      "[ 0.00000000e+00  1.63000000e+02 -3.11305094e-04 -2.89299387e-08]\n",
      "[ 0.00000000e+00  1.64000000e+02 -3.06994531e-04 -2.81498031e-08]\n",
      "[ 0.00000000e+00  1.65000000e+02 -3.10867398e-04 -2.88717434e-08]\n",
      "[ 0.00000000e+00  1.66000000e+02 -3.05123221e-04 -2.78079702e-08]\n",
      "[ 0.00000000e+00  1.67000000e+02 -3.06763709e-04 -2.81008822e-08]\n",
      "[ 0.00000000e+00  1.68000000e+02 -3.06748171e-04 -2.81064630e-08]\n",
      "[ 0.00000000e+00  1.69000000e+02 -3.07321630e-04 -2.82057549e-08]\n",
      "[ 0.00000000e+00  1.70000000e+02 -3.03257198e-04 -2.74685203e-08]\n",
      "[ 0.00000000e+00  1.71000000e+02 -3.09176432e-04 -2.85485780e-08]\n",
      "[ 0.00000000e+00  1.72000000e+02 -3.04064405e-04 -2.76161029e-08]\n",
      "[ 0.00000000e+00  1.73000000e+02 -3.04114142e-04 -2.76173800e-08]\n",
      "[ 0.00000000e+00  1.74000000e+02 -3.02333069e-04 -2.72882371e-08]\n",
      "[ 0.00000000e+00  1.75000000e+02 -3.02550162e-04 -2.73496985e-08]\n",
      "[ 0.00000000e+00  1.76000000e+02 -3.01511193e-04 -2.71443252e-08]\n",
      "[ 0.00000000e+00  1.77000000e+02 -3.04627256e-04 -2.76984071e-08]\n",
      "[ 0.00000000e+00  1.78000000e+02 -3.04387002e-04 -2.76715765e-08]\n",
      "[ 0.00000000e+00  1.79000000e+02 -3.07906200e-04 -2.83100268e-08]\n",
      "[ 0.00000000e+00  1.80000000e+02 -2.98942984e-04 -2.67078279e-08]\n",
      "[ 0.00000000e+00  1.81000000e+02 -3.01318772e-04 -2.71322139e-08]\n",
      "[ 0.00000000e+00  1.82000000e+02 -2.95085800e-04 -2.60061231e-08]\n",
      "[ 0.00000000e+00  1.83000000e+02 -2.97964309e-04 -2.65186092e-08]\n",
      "[ 0.00000000e+00  1.84000000e+02 -2.95243711e-04 -2.60360869e-08]\n",
      "[ 0.00000000e+00  1.85000000e+02 -3.00358891e-04 -2.69658469e-08]\n",
      "[ 0.00000000e+00  1.86000000e+02 -2.97752236e-04 -2.64901587e-08]\n",
      "[ 0.00000000e+00  1.87000000e+02 -3.01723192e-04 -2.71821779e-08]\n",
      "[ 0.00000000e+00  1.88000000e+02 -2.95549454e-04 -2.60701518e-08]\n",
      "[ 0.00000000e+00  1.89000000e+02 -2.99397124e-04 -2.67744829e-08]\n",
      "[ 0.00000000e+00  1.90000000e+02 -2.94660793e-04 -2.59453003e-08]\n",
      "[ 0.00000000e+00  1.91000000e+02 -2.96913855e-04 -2.63363720e-08]\n",
      "[ 0.00000000e+00  1.92000000e+02 -2.93383863e-04 -2.57053388e-08]\n",
      "[ 0.00000000e+00  1.93000000e+02 -2.93778294e-04 -2.57722094e-08]\n",
      "[ 0.00000000e+00  1.94000000e+02 -2.94835525e-04 -2.59617232e-08]\n",
      "[ 0.00000000e+00  1.95000000e+02 -2.95006530e-04 -2.59966176e-08]\n",
      "[ 0.00000000e+00  1.96000000e+02 -2.88528356e-04 -2.48654289e-08]\n",
      "[ 0.00000000e+00  1.97000000e+02 -2.95562049e-04 -2.60743674e-08]\n",
      "[ 0.00000000e+00  1.98000000e+02 -2.91354931e-04 -2.53684042e-08]\n",
      "[ 0.00000000e+00  1.99000000e+02 -2.95605723e-04 -2.60844553e-08]\n",
      "[ 0.00000000e+00  2.00000000e+02 -2.88368489e-04 -2.48560943e-08]\n",
      "[ 0.00000000e+00  2.01000000e+02 -2.93948949e-04 -2.58096300e-08]\n",
      "[ 0.00000000e+00  2.02000000e+02 -2.92649026e-04 -2.55835688e-08]\n",
      "[ 0.00000000e+00  2.03000000e+02 -2.93734739e-04 -2.57720407e-08]\n",
      "[ 0.00000000e+00  2.04000000e+02 -2.92856577e-04 -2.56196476e-08]\n",
      "[ 0.00000000e+00  2.05000000e+02 -2.92708074e-04 -2.56099410e-08]\n",
      "[ 0.00000000e+00  2.06000000e+02 -2.86820033e-04 -2.45678451e-08]\n",
      "[ 0.00000000e+00  2.07000000e+02 -2.88619402e-04 -2.48942019e-08]\n",
      "[ 0.00000000e+00  2.08000000e+02 -2.87446101e-04 -2.46807010e-08]\n",
      "[ 0.00000000e+00  2.09000000e+02 -2.85512879e-04 -2.43521095e-08]\n",
      "[ 0.00000000e+00  2.10000000e+02 -2.84408629e-04 -2.41553310e-08]\n",
      "[ 0.00000000e+00  2.11000000e+02 -2.89622210e-04 -2.50623091e-08]\n",
      "[ 0.00000000e+00  2.12000000e+02 -2.86074280e-04 -2.44555431e-08]\n",
      "[ 0.00000000e+00  2.13000000e+02 -2.86939282e-04 -2.46035653e-08]\n",
      "[ 0.00000000e+00  2.14000000e+02 -2.82420085e-04 -2.38298722e-08]\n",
      "[ 0.00000000e+00  2.15000000e+02 -2.86027319e-04 -2.44367329e-08]\n",
      "[ 0.00000000e+00  2.16000000e+02 -2.78755278e-04 -2.32219109e-08]\n",
      "[ 0.00000000e+00  2.17000000e+02 -2.82909212e-04 -2.39050882e-08]\n",
      "[ 0.00000000e+00  2.18000000e+02 -2.80395583e-04 -2.34868832e-08]\n",
      "[ 0.00000000e+00  2.19000000e+02 -2.84327405e-04 -2.41506344e-08]\n",
      "[ 0.00000000e+00  2.20000000e+02 -2.80861785e-04 -2.35529256e-08]\n",
      "[ 0.00000000e+00  2.21000000e+02 -2.77952291e-04 -2.30749169e-08]\n",
      "[ 0.00000000e+00  2.22000000e+02 -2.74872258e-04 -2.25720317e-08]\n",
      "[ 0.00000000e+00  2.23000000e+02 -2.78522797e-04 -2.31638037e-08]\n",
      "[ 0.00000000e+00  2.24000000e+02 -2.72590077e-04 -2.21979476e-08]\n",
      "[ 0.00000000e+00  2.25000000e+02 -2.77252103e-04 -2.29581059e-08]\n",
      "[ 0.00000000e+00  2.26000000e+02 -2.72330025e-04 -2.21530890e-08]\n",
      "[ 0.00000000e+00  2.27000000e+02 -2.78264684e-04 -2.31290113e-08]\n",
      "[ 0.00000000e+00  2.28000000e+02 -2.72437937e-04 -2.21820208e-08]\n",
      "[ 0.00000000e+00  2.29000000e+02 -2.73630620e-04 -2.23705954e-08]\n",
      "[ 0.00000000e+00  2.30000000e+02 -2.71927090e-04 -2.20970285e-08]\n",
      "[ 0.00000000e+00  2.31000000e+02 -2.72400501e-04 -2.21803707e-08]\n",
      "[ 0.00000000e+00  2.32000000e+02 -2.68626568e-04 -2.15580401e-08]\n",
      "[ 0.00000000e+00  2.33000000e+02 -2.72808701e-04 -2.22297268e-08]\n",
      "[ 0.00000000e+00  2.34000000e+02 -2.72759082e-04 -2.22213025e-08]\n",
      "[ 0.00000000e+00  2.35000000e+02 -2.72213683e-04 -2.21386451e-08]\n",
      "[ 0.00000000e+00  2.36000000e+02 -2.69261625e-04 -2.16558091e-08]\n",
      "[ 0.00000000e+00  2.37000000e+02 -2.71700090e-04 -2.20557919e-08]\n",
      "[ 0.00000000e+00  2.38000000e+02 -2.68676597e-04 -2.15707247e-08]\n",
      "[ 0.00000000e+00  2.39000000e+02 -2.66783426e-04 -2.12653984e-08]\n",
      "[ 0.00000000e+00  2.40000000e+02 -2.66044534e-04 -2.11474852e-08]\n",
      "[ 0.00000000e+00  2.41000000e+02 -2.66125601e-04 -2.11674066e-08]\n",
      "[ 0.00000000e+00  2.42000000e+02 -2.63838139e-04 -2.08009410e-08]\n",
      "[ 0.00000000e+00  2.43000000e+02 -2.64539642e-04 -2.09052208e-08]\n",
      "[ 0.00000000e+00  2.44000000e+02 -2.61591301e-04 -2.04410804e-08]\n",
      "[ 0.00000000e+00  2.45000000e+02 -2.64925160e-04 -2.09797427e-08]\n",
      "[ 0.00000000e+00  2.46000000e+02 -2.60384673e-04 -2.02577396e-08]\n",
      "[ 0.00000000e+00  2.47000000e+02 -2.62772355e-04 -2.06403802e-08]\n",
      "[ 0.00000000e+00  2.48000000e+02 -2.56504940e-04 -1.96533181e-08]\n",
      "[ 0.00000000e+00  2.49000000e+02 -2.61430579e-04 -2.04335915e-08]\n",
      "[ 0.00000000e+00  2.50000000e+02 -2.56690951e-04 -1.96958908e-08]\n",
      "[ 0.00000000e+00  2.51000000e+02 -2.59432956e-04 -2.01161212e-08]\n",
      "[ 0.00000000e+00  2.52000000e+02 -2.52649899e-04 -1.90798871e-08]\n",
      "[ 0.00000000e+00  2.53000000e+02 -2.54826244e-04 -1.94007345e-08]\n",
      "[ 0.00000000e+00  2.54000000e+02 -2.55333077e-04 -1.94849263e-08]\n",
      "[ 0.00000000e+00  2.55000000e+02 -2.52675403e-04 -1.90733168e-08]\n",
      "[ 0.00000000e+00  2.56000000e+02 -2.56491051e-04 -1.96349762e-08]\n",
      "[ 0.00000000e+00  2.57000000e+02 -2.64189601e-04 -2.08238602e-08]\n",
      "[ 0.00000000e+00  2.58000000e+02 -2.56268887e-04 -1.96029856e-08]\n",
      "[ 0.00000000e+00  2.59000000e+02 -2.62427204e-04 -2.05493224e-08]\n",
      "[ 0.00000000e+00  2.60000000e+02 -2.61248519e-04 -2.03658317e-08]\n",
      "[ 0.00000000e+00  2.61000000e+02 -2.66289723e-04 -2.11553591e-08]\n",
      "[ 0.00000000e+00  2.62000000e+02 -2.65442230e-04 -2.10322961e-08]\n",
      "[ 0.00000000e+00  2.63000000e+02 -2.66107707e-04 -2.11332993e-08]\n",
      "[ 0.00000000e+00  2.64000000e+02 -2.68572349e-04 -2.15086835e-08]\n",
      "[ 0.00000000e+00  2.65000000e+02 -2.67888123e-04 -2.14064701e-08]\n",
      "[ 0.00000000e+00  2.66000000e+02 -2.67821235e-04 -2.14151402e-08]\n",
      "[ 0.00000000e+00  2.67000000e+02 -2.67576190e-04 -2.13759971e-08]\n",
      "[ 0.00000000e+00  2.68000000e+02 -2.72010662e-04 -2.20866124e-08]\n",
      "[ 0.00000000e+00  2.69000000e+02 -2.71439179e-04 -2.19932083e-08]\n",
      "[ 0.00000000e+00  2.70000000e+02 -2.73753104e-04 -2.23731084e-08]\n",
      "[ 0.00000000e+00  2.71000000e+02 -2.78517976e-04 -2.31452958e-08]\n",
      "[ 0.00000000e+00  2.72000000e+02 -2.79108930e-04 -2.32366353e-08]\n",
      "[ 0.00000000e+00  2.73000000e+02 -2.80474637e-04 -2.34829304e-08]\n",
      "[ 0.00000000e+00  2.74000000e+02 -2.73505702e-04 -2.23280337e-08]\n",
      "[ 0.00000000e+00  2.75000000e+02 -2.76867541e-04 -2.28596800e-08]\n",
      "[ 0.00000000e+00  2.76000000e+02 -2.78614019e-04 -2.31667484e-08]\n",
      "[ 0.00000000e+00  2.77000000e+02 -2.82619780e-04 -2.38390215e-08]\n",
      "[ 0.00000000e+00  2.78000000e+02 -2.76320308e-04 -2.27699078e-08]\n",
      "[ 0.00000000e+00  2.79000000e+02 -2.82098897e-04 -2.37389397e-08]\n",
      "[ 0.00000000e+00  2.80000000e+02 -2.80715215e-04 -2.35220170e-08]\n",
      "[ 0.00000000e+00  2.81000000e+02 -2.80715358e-04 -2.35109622e-08]\n",
      "[ 0.00000000e+00  2.82000000e+02 -2.82364754e-04 -2.37858815e-08]\n",
      "[ 0.00000000e+00  2.83000000e+02 -2.84418593e-04 -2.41323380e-08]\n",
      "[ 0.00000000e+00  2.84000000e+02 -2.78966159e-04 -2.32365305e-08]\n",
      "[ 0.00000000e+00  2.85000000e+02 -2.86080133e-04 -2.44168588e-08]\n",
      "[ 0.00000000e+00  2.86000000e+02 -2.84763157e-04 -2.42013949e-08]\n",
      "[ 0.00000000e+00  2.87000000e+02 -2.85269371e-04 -2.42781601e-08]\n",
      "[ 0.00000000e+00  2.88000000e+02 -2.87535116e-04 -2.46782475e-08]\n",
      "[ 0.00000000e+00  2.89000000e+02 -2.90352944e-04 -2.51467720e-08]\n",
      "[ 0.00000000e+00  2.90000000e+02 -2.83229109e-04 -2.39291974e-08]\n",
      "[ 0.00000000e+00  2.91000000e+02 -2.89488180e-04 -2.49887508e-08]\n",
      "[ 0.00000000e+00  2.92000000e+02 -2.90991022e-04 -2.52490451e-08]\n",
      "[ 0.00000000e+00  2.93000000e+02 -2.94858343e-04 -2.59273840e-08]\n",
      "[ 0.00000000e+00  2.94000000e+02 -2.90729012e-04 -2.52209975e-08]\n",
      "[ 0.00000000e+00  2.95000000e+02 -2.93520791e-04 -2.57171029e-08]\n",
      "[ 0.00000000e+00  2.96000000e+02 -2.91424071e-04 -2.53417185e-08]\n",
      "[ 0.00000000e+00  2.97000000e+02 -2.94415351e-04 -2.58530196e-08]\n",
      "[ 0.00000000e+00  2.98000000e+02 -2.87207871e-04 -2.45911979e-08]\n",
      "[ 0.00000000e+00  2.99000000e+02 -2.94527936e-04 -2.58695658e-08]\n",
      "[ 0.00000000e+00  3.00000000e+02 -2.93317842e-04 -2.56701433e-08]\n",
      "[ 0.00000000e+00  3.01000000e+02 -2.94009974e-04 -2.57727361e-08]\n",
      "[ 0.00000000e+00  3.02000000e+02 -2.89140345e-04 -2.49206362e-08]\n",
      "[ 0.00000000e+00  3.03000000e+02 -2.96825274e-04 -2.62676415e-08]\n",
      "[ 0.00000000e+00  3.04000000e+02 -2.97040558e-04 -2.63290086e-08]\n",
      "[ 0.00000000e+00  3.05000000e+02 -2.94725025e-04 -2.59170885e-08]\n",
      "[ 0.00000000e+00  3.06000000e+02 -2.92878863e-04 -2.55737729e-08]\n",
      "[ 0.00000000e+00  3.07000000e+02 -3.00206758e-04 -2.68854927e-08]\n",
      "[ 0.00000000e+00  3.08000000e+02 -2.96447281e-04 -2.62135158e-08]\n",
      "[ 0.00000000e+00  3.09000000e+02 -2.94897614e-04 -2.59273003e-08]\n",
      "[ 0.00000000e+00  3.10000000e+02 -2.94303906e-04 -2.58234641e-08]\n",
      "[ 0.00000000e+00  3.11000000e+02 -3.01660080e-04 -2.71297164e-08]\n",
      "[ 0.00000000e+00  3.12000000e+02 -2.96399337e-04 -2.61907384e-08]\n",
      "[ 0.00000000e+00  3.13000000e+02 -3.00776385e-04 -2.69787393e-08]\n",
      "[ 0.00000000e+00  3.14000000e+02 -2.97797053e-04 -2.64571875e-08]\n",
      "[ 0.00000000e+00  3.15000000e+02 -3.03242291e-04 -2.74322264e-08]\n",
      "[ 0.00000000e+00  3.16000000e+02 -2.97909133e-04 -2.64676607e-08]\n",
      "[ 0.00000000e+00  3.17000000e+02 -3.02783228e-04 -2.73347125e-08]\n",
      "[ 0.00000000e+00  3.18000000e+02 -3.01057936e-04 -2.70273428e-08]\n",
      "[ 0.00000000e+00  3.19000000e+02 -3.03518152e-04 -2.74609557e-08]\n",
      "[ 0.00000000e+00  3.20000000e+02 -3.00255668e-04 -2.68963070e-08]\n",
      "[ 0.00000000e+00  3.21000000e+02 -3.04760070e-04 -2.76938571e-08]\n",
      "[ 0.00000000e+00  3.22000000e+02 -3.06680524e-04 -2.80466106e-08]\n",
      "[ 0.00000000e+00  3.23000000e+02 -3.09075700e-04 -2.84860288e-08]\n",
      "[ 0.00000000e+00  3.24000000e+02 -3.03911912e-04 -2.75523193e-08]\n",
      "[ 0.00000000e+00  3.25000000e+02 -3.08242052e-04 -2.83342610e-08]\n",
      "[ 0.00000000e+00  3.26000000e+02 -3.04721060e-04 -2.77030565e-08]\n",
      "[ 0.00000000e+00  3.27000000e+02 -3.12503295e-04 -2.91111891e-08]\n",
      "[ 0.00000000e+00  3.28000000e+02 -3.01898555e-04 -2.71711847e-08]\n",
      "[ 0.00000000e+00  3.29000000e+02 -3.07032952e-04 -2.81124504e-08]\n",
      "[ 0.00000000e+00  3.30000000e+02 -3.10391069e-04 -2.87359015e-08]\n",
      "[ 0.00000000e+00  3.31000000e+02 -3.10387789e-04 -2.87314412e-08]\n",
      "[ 0.00000000e+00  3.32000000e+02 -3.10408320e-04 -2.87388721e-08]\n",
      "[ 0.00000000e+00  3.33000000e+02 -3.09710174e-04 -2.86185310e-08]\n",
      "[ 0.00000000e+00  3.34000000e+02 -3.06823290e-04 -2.80711694e-08]\n",
      "[ 0.00000000e+00  3.35000000e+02 -3.15079925e-04 -2.95945117e-08]\n",
      "[ 0.00000000e+00  3.36000000e+02 -3.13074823e-04 -2.92160830e-08]\n",
      "[ 0.00000000e+00  3.37000000e+02 -3.16585743e-04 -2.98935354e-08]\n",
      "[ 0.00000000e+00  3.38000000e+02 -3.11174463e-04 -2.88674458e-08]\n",
      "[ 0.00000000e+00  3.39000000e+02 -3.17668998e-04 -3.00871313e-08]\n",
      "[ 0.0000000e+00  3.4000000e+02 -3.1155116e-04 -2.8922407e-08]\n",
      "[ 0.00000000e+00  3.41000000e+02 -3.14959209e-04 -2.95745145e-08]\n",
      "[ 0.00000000e+00  3.42000000e+02 -3.12698527e-04 -2.91585551e-08]\n",
      "[ 0.00000000e+00  3.43000000e+02 -3.12578343e-04 -2.91359630e-08]\n",
      "[ 0.00000000e+00  3.44000000e+02 -3.13627364e-04 -2.93313778e-08]\n",
      "[ 0.00000000e+00  3.45000000e+02 -3.14650655e-04 -2.95327183e-08]\n",
      "[ 0.00000000e+00  3.46000000e+02 -3.14012750e-04 -2.93924362e-08]\n",
      "[ 0.00000000e+00  3.47000000e+02 -3.15357859e-04 -2.96474390e-08]\n",
      "[ 0.00000000e+00  3.48000000e+02 -3.12271354e-04 -2.90650524e-08]\n",
      "[ 0.00000000e+00  3.49000000e+02 -3.21528597e-04 -3.08466387e-08]\n",
      "[ 0.00000000e+00  3.50000000e+02 -3.14042754e-04 -2.94192384e-08]\n",
      "[ 0.00000000e+00  3.51000000e+02 -3.20116876e-04 -3.05435175e-08]\n",
      "[ 0.00000000e+00  3.52000000e+02 -3.18567365e-04 -3.02788273e-08]\n",
      "[ 0.00000000e+00  3.53000000e+02 -3.16188425e-04 -2.98087586e-08]\n",
      "[ 0.00000000e+00  3.54000000e+02 -3.20665355e-04 -3.06541100e-08]\n",
      "[ 0.00000000e+00  3.55000000e+02 -3.19664049e-04 -3.04796623e-08]\n",
      "[ 0.00000000e+00  3.56000000e+02 -3.22816339e-04 -3.10787818e-08]\n",
      "[ 0.00000000e+00  3.57000000e+02 -3.23945758e-04 -3.12776214e-08]\n",
      "[ 0.00000000e+00  3.58000000e+02 -3.15484747e-04 -2.96681283e-08]\n",
      "[ 0.00000000e+00  3.59000000e+02 -3.22232160e-04 -3.09750979e-08]\n",
      "[ 0.00000000e+00  3.60000000e+02 -3.22510002e-04 -3.10194792e-08]\n",
      "[ 0.00000000e+00  3.61000000e+02 -3.24578282e-04 -3.14136878e-08]\n",
      "[ 0.00000000e+00  3.62000000e+02 -3.19002114e-04 -3.03335502e-08]\n",
      "[ 0.00000000e+00  3.63000000e+02 -3.23558321e-04 -3.11872430e-08]\n",
      "[ 0.00000000e+00  3.64000000e+02 -3.26749045e-04 -3.18418910e-08]\n",
      "[ 0.00000000e+00  3.65000000e+02 -3.28533855e-04 -3.21692981e-08]\n",
      "[ 0.00000000e+00  3.66000000e+02 -3.27253086e-04 -3.19263886e-08]\n",
      "[ 0.00000000e+00  3.67000000e+02 -3.28895862e-04 -3.22542686e-08]\n",
      "[ 0.00000000e+00  3.68000000e+02 -3.29322217e-04 -3.23197528e-08]\n",
      "[ 0.00000000e+00  3.69000000e+02 -3.28386613e-04 -3.21487628e-08]\n",
      "[ 0.00000000e+00  3.70000000e+02 -3.23552077e-04 -3.12161433e-08]\n",
      "[ 0.00000000e+00  3.71000000e+02 -3.29735401e-04 -3.24209448e-08]\n",
      "[ 0.00000000e+00  3.72000000e+02 -3.23260602e-04 -3.11359909e-08]\n",
      "[ 0.00000000e+00  3.73000000e+02 -3.28492735e-04 -3.21647338e-08]\n",
      "[ 0.00000000e+00  3.74000000e+02 -3.27492359e-04 -3.19731706e-08]\n",
      "[ 0.00000000e+00  3.75000000e+02 -3.35488510e-04 -3.35682981e-08]\n",
      "[ 0.00000000e+00  3.76000000e+02 -3.30984656e-04 -3.26707047e-08]\n",
      "[ 0.00000000e+00  3.77000000e+02 -3.35779146e-04 -3.36005894e-08]\n",
      "[ 0.00000000e+00  3.78000000e+02 -3.30519092e-04 -3.25564123e-08]\n",
      "[ 0.00000000e+00  3.79000000e+02 -3.28137265e-04 -3.20996432e-08]\n",
      "[ 0.00000000e+00  3.80000000e+02 -3.30541477e-04 -3.25690008e-08]\n",
      "[ 0.00000000e+00  3.81000000e+02 -3.35812614e-04 -3.36026439e-08]\n",
      "[ 0.00000000e+00  3.82000000e+02 -3.30805964e-04 -3.26036710e-08]\n",
      "[ 0.00000000e+00  3.83000000e+02 -3.30176251e-04 -3.24950189e-08]\n",
      "[ 0.00000000e+00  3.84000000e+02 -3.12055777e-04 -2.90604430e-08]\n",
      "[ 0.00000000e+00  3.85000000e+02 -3.15393942e-04 -2.96711515e-08]\n",
      "[ 0.00000000e+00  3.86000000e+02 -3.19559772e-04 -3.04561984e-08]\n",
      "[ 0.00000000e+00  3.87000000e+02 -3.15300642e-04 -2.96479184e-08]\n",
      "[ 0.00000000e+00  3.88000000e+02 -3.16043595e-04 -2.98026956e-08]\n",
      "[ 0.00000000e+00  3.89000000e+02 -3.20316728e-04 -3.06119821e-08]\n",
      "[ 0.00000000e+00  3.90000000e+02 -3.14911513e-04 -2.95970259e-08]\n",
      "[ 0.00000000e+00  3.91000000e+02 -3.17772945e-04 -3.01288821e-08]\n",
      "[ 0.00000000e+00  3.92000000e+02 -3.17312307e-04 -3.00546775e-08]\n",
      "[ 0.00000000e+00  3.93000000e+02 -3.13224138e-04 -2.92463545e-08]\n",
      "[ 0.00000000e+00  3.94000000e+02 -3.13550831e-04 -2.93192903e-08]\n",
      "[ 0.00000000e+00  3.95000000e+02 -3.17198379e-04 -2.99960184e-08]\n",
      "[ 0.00000000e+00  3.96000000e+02 -3.10083973e-04 -2.86788316e-08]\n",
      "[ 0.00000000e+00  3.97000000e+02 -3.15771685e-04 -2.97313244e-08]\n",
      "[ 0.00000000e+00  3.98000000e+02 -3.05168227e-04 -2.77821241e-08]\n",
      "[ 0.00000000e+00  3.99000000e+02 -3.11075908e-04 -2.88793577e-08]\n",
      "[ 0.00000000e+00  4.00000000e+02 -3.10139272e-04 -2.86939784e-08]\n",
      "[ 0.00000000e+00  4.01000000e+02 -3.10622981e-04 -2.87833122e-08]\n",
      "[ 0.00000000e+00  4.02000000e+02 -3.11069274e-04 -2.88787260e-08]\n",
      "[ 0.00000000e+00  4.03000000e+02 -3.07419707e-04 -2.82020513e-08]\n",
      "[ 0.00000000e+00  4.04000000e+02 -3.08654578e-04 -2.84308046e-08]\n",
      "[ 0.00000000e+00  4.05000000e+02 -3.12965093e-04 -2.92124141e-08]\n",
      "[ 0.00000000e+00  4.06000000e+02 -3.12164921e-04 -2.90622910e-08]\n",
      "[ 0.00000000e+00  4.07000000e+02 -3.10689473e-04 -2.88283812e-08]\n",
      "[ 0.00000000e+00  4.08000000e+02 -3.07590316e-04 -2.82196663e-08]\n",
      "[ 0.00000000e+00  4.09000000e+02 -3.07035029e-04 -2.81292004e-08]\n",
      "[ 0.00000000e+00  4.10000000e+02 -3.03873598e-04 -2.75591579e-08]\n",
      "[ 0.00000000e+00  4.11000000e+02 -3.04710133e-04 -2.76798910e-08]\n",
      "[ 0.00000000e+00  4.12000000e+02 -3.12529147e-04 -2.91431343e-08]\n",
      "[ 0.00000000e+00  4.13000000e+02 -3.01683370e-04 -2.71452768e-08]\n",
      "[ 0.00000000e+00  4.14000000e+02 -3.03882561e-04 -2.75437726e-08]\n",
      "[ 0.00000000e+00  4.15000000e+02 -3.07253783e-04 -2.81786844e-08]\n",
      "[ 0.00000000e+00  4.16000000e+02 -3.03132265e-04 -2.73964782e-08]\n",
      "[ 0.00000000e+00  4.17000000e+02 -3.02517909e-04 -2.72980478e-08]\n",
      "[ 0.00000000e+00  4.18000000e+02 -3.06467453e-04 -2.80192250e-08]\n",
      "[ 0.00000000e+00  4.19000000e+02 -3.02741604e-04 -2.73363064e-08]\n",
      "[ 0.00000000e+00  4.20000000e+02 -2.96124992e-04 -2.61669420e-08]\n",
      "[ 0.00000000e+00  4.21000000e+02 -3.00289916e-04 -2.69009940e-08]\n",
      "[ 0.00000000e+00  4.22000000e+02 -3.01746700e-04 -2.71589308e-08]\n",
      "[ 0.00000000e+00  4.23000000e+02 -2.97508476e-04 -2.64054670e-08]\n",
      "[ 0.00000000e+00  4.24000000e+02 -2.95727311e-04 -2.60828852e-08]\n",
      "[ 0.00000000e+00  4.25000000e+02 -2.99950431e-04 -2.68386649e-08]\n",
      "[ 0.00000000e+00  4.26000000e+02 -2.96388954e-04 -2.62090779e-08]\n",
      "[ 0.00000000e+00  4.27000000e+02 -3.02031285e-04 -2.72059288e-08]\n",
      "[ 0.00000000e+00  4.28000000e+02 -2.97745278e-04 -2.64626149e-08]\n",
      "[ 0.00000000e+00  4.29000000e+02 -2.96622699e-04 -2.62547606e-08]\n",
      "[ 0.00000000e+00  4.30000000e+02 -2.93262375e-04 -2.56544940e-08]\n",
      "[ 0.00000000e+00  4.31000000e+02 -2.97522117e-04 -2.64147262e-08]\n",
      "[ 0.00000000e+00  4.32000000e+02 -2.96757281e-04 -2.62759779e-08]\n",
      "[ 0.00000000e+00  4.33000000e+02 -2.97632238e-04 -2.64244853e-08]\n",
      "[ 0.00000000e+00  4.34000000e+02 -2.96666466e-04 -2.62508226e-08]\n",
      "[ 0.00000000e+00  4.35000000e+02 -2.96239057e-04 -2.61782466e-08]\n",
      "[ 0.00000000e+00  4.36000000e+02 -2.91798974e-04 -2.54077428e-08]\n",
      "[ 0.00000000e+00  4.37000000e+02 -2.93907023e-04 -2.57857714e-08]\n",
      "[ 0.00000000e+00  4.38000000e+02 -2.91227542e-04 -2.53047246e-08]\n",
      "[ 0.00000000e+00  4.39000000e+02 -2.94159841e-04 -2.58178112e-08]\n",
      "[ 0.00000000e+00  4.40000000e+02 -2.93880232e-04 -2.57820155e-08]\n",
      "[ 0.00000000e+00  4.41000000e+02 -2.95929584e-04 -2.61262944e-08]\n",
      "[ 0.00000000e+00  4.42000000e+02 -2.86233999e-04 -2.44482008e-08]\n",
      "[ 0.00000000e+00  4.43000000e+02 -2.97521624e-04 -2.64033660e-08]\n",
      "[ 0.00000000e+00  4.44000000e+02 -2.89547328e-04 -2.50355542e-08]\n",
      "[ 0.00000000e+00  4.45000000e+02 -2.92916319e-04 -2.55966359e-08]\n",
      "[ 0.00000000e+00  4.46000000e+02 -2.89732058e-04 -2.50294564e-08]\n",
      "[ 0.00000000e+00  4.47000000e+02 -2.89322371e-04 -2.49800759e-08]\n",
      "[ 0.00000000e+00  4.48000000e+02 -2.90868678e-04 -2.52501696e-08]\n",
      "[ 0.00000000e+00  4.49000000e+02 -2.88284088e-04 -2.47849972e-08]\n",
      "[ 0.00000000e+00  4.50000000e+02 -2.89358163e-04 -2.49897891e-08]\n",
      "[ 0.00000000e+00  4.51000000e+02 -2.88267221e-04 -2.47850562e-08]\n",
      "[ 0.00000000e+00  4.52000000e+02 -2.90325269e-04 -2.51543941e-08]\n",
      "[ 0.00000000e+00  4.53000000e+02 -2.91197051e-04 -2.53011345e-08]\n",
      "[ 0.00000000e+00  4.54000000e+02 -2.85860658e-04 -2.43885784e-08]\n",
      "[ 0.00000000e+00  4.55000000e+02 -2.85264264e-04 -2.42727947e-08]\n",
      "[ 0.00000000e+00  4.56000000e+02 -2.82042644e-04 -2.37267175e-08]\n",
      "[ 0.00000000e+00  4.57000000e+02 -2.87083222e-04 -2.45921596e-08]\n",
      "[ 0.00000000e+00  4.58000000e+02 -2.83489612e-04 -2.39953398e-08]\n",
      "[ 0.00000000e+00  4.59000000e+02 -2.84629021e-04 -2.41764118e-08]\n",
      "[ 0.00000000e+00  4.60000000e+02 -2.81398717e-04 -2.36122425e-08]\n",
      "[ 0.00000000e+00  4.61000000e+02 -2.81718831e-04 -2.36899751e-08]\n",
      "[ 0.00000000e+00  4.62000000e+02 -2.82021550e-04 -2.37198888e-08]\n",
      "[ 0.00000000e+00  4.63000000e+02 -2.81843197e-04 -2.37173296e-08]\n",
      "[ 0.00000000e+00  4.64000000e+02 -2.83138055e-04 -2.39294437e-08]\n",
      "[ 0.00000000e+00  4.65000000e+02 -2.79856359e-04 -2.33664793e-08]\n",
      "[ 0.00000000e+00  4.66000000e+02 -2.78265278e-04 -2.31200426e-08]\n",
      "[ 0.00000000e+00  4.67000000e+02 -2.83521858e-04 -2.39898564e-08]\n",
      "[ 0.00000000e+00  4.68000000e+02 -2.78469761e-04 -2.31406900e-08]\n",
      "[ 0.00000000e+00  4.69000000e+02 -2.78587378e-04 -2.31522257e-08]\n",
      "[ 0.00000000e+00  4.70000000e+02 -2.76410559e-04 -2.27867645e-08]\n",
      "[ 0.00000000e+00  4.71000000e+02 -2.77910904e-04 -2.30526566e-08]\n",
      "[ 0.00000000e+00  4.72000000e+02 -2.76172721e-04 -2.27608353e-08]\n",
      "[ 0.00000000e+00  4.73000000e+02 -2.80009862e-04 -2.34131510e-08]\n",
      "[ 0.00000000e+00  4.74000000e+02 -2.76771179e-04 -2.28583118e-08]\n",
      "[ 0.00000000e+00  4.75000000e+02 -2.76198583e-04 -2.27805937e-08]\n",
      "[ 0.00000000e+00  4.76000000e+02 -2.77277034e-04 -2.29595758e-08]\n",
      "[ 0.00000000e+00  4.77000000e+02 -2.73318068e-04 -2.22843183e-08]\n",
      "[ 0.00000000e+00  4.78000000e+02 -2.72886701e-04 -2.22454310e-08]\n",
      "[ 0.00000000e+00  4.79000000e+02 -2.73990105e-04 -2.24204369e-08]\n",
      "[ 0.00000000e+00  4.80000000e+02 -2.70608600e-04 -2.18549957e-08]\n",
      "[ 0.00000000e+00  4.81000000e+02 -2.75496856e-04 -2.26523624e-08]\n",
      "[ 0.00000000e+00  4.82000000e+02 -2.71660493e-04 -2.20399269e-08]\n",
      "[ 0.00000000e+00  4.83000000e+02 -2.71749151e-04 -2.20492337e-08]\n",
      "[ 0.00000000e+00  4.84000000e+02 -2.67994402e-04 -2.14391535e-08]\n",
      "[ 0.00000000e+00  4.85000000e+02 -2.67214672e-04 -2.13090351e-08]\n",
      "[ 0.00000000e+00  4.86000000e+02 -2.66558454e-04 -2.12147397e-08]\n",
      "[ 0.00000000e+00  4.87000000e+02 -2.68917928e-04 -2.15863280e-08]\n",
      "[ 0.00000000e+00  4.88000000e+02 -2.65621986e-04 -2.10715764e-08]\n",
      "[ 0.00000000e+00  4.89000000e+02 -2.71472941e-04 -2.19910815e-08]\n",
      "[ 0.00000000e+00  4.90000000e+02 -2.69246842e-04 -2.16438255e-08]\n",
      "[ 0.00000000e+00  4.91000000e+02 -2.65432007e-04 -2.10239030e-08]\n",
      "[ 0.00000000e+00  4.92000000e+02 -2.66575754e-04 -2.12156332e-08]\n",
      "[ 0.00000000e+00  4.93000000e+02 -2.66108626e-04 -2.11412172e-08]\n",
      "[ 0.00000000e+00  4.94000000e+02 -2.64095011e-04 -2.08199817e-08]\n",
      "[ 0.00000000e+00  4.95000000e+02 -2.65523221e-04 -2.10508782e-08]\n",
      "[ 0.00000000e+00  4.96000000e+02 -2.61649344e-04 -2.04264383e-08]\n",
      "[ 0.00000000e+00  4.97000000e+02 -2.60842427e-04 -2.03083405e-08]\n",
      "[ 0.00000000e+00  4.98000000e+02 -2.58249467e-04 -1.99183356e-08]\n",
      "[ 0.00000000e+00  4.99000000e+02 -2.61532786e-04 -2.04098539e-08]\n"
     ]
    }
   ],
   "source": [
    "for line in results: \n",
    "    print (line)\n",
    "    "
   ]
  },
  {
   "cell_type": "code",
   "execution_count": null,
   "metadata": {},
   "outputs": [],
   "source": []
  }
 ],
 "metadata": {
  "kernelspec": {
   "display_name": "LSST",
   "language": "python",
   "name": "lsst"
  },
  "language_info": {
   "codemirror_mode": {
    "name": "ipython",
    "version": 3
   },
   "file_extension": ".py",
   "mimetype": "text/x-python",
   "name": "python",
   "nbconvert_exporter": "python",
   "pygments_lexer": "ipython3",
   "version": "3.8.8"
  }
 },
 "nbformat": 4,
 "nbformat_minor": 4
}
